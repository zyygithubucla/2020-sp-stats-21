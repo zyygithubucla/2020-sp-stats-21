{
 "cells": [
  {
   "cell_type": "markdown",
   "metadata": {},
   "source": [
    "# Stats 21: Homework 1\n",
    "## Yingyi Zhu\n",
    "\n",
    "I've started the homework file for you. You'll need to fill in the rest with your answers.\n",
    "My encouragement is to use the keyboard shortcuts as much as possible and use the mouse as little as possible while working the Jupyter Notebook.\n",
    "\n",
    "After you complete the homework with your answers, go to the menu and choose Kernel > Restart & Run All. Go through the document to **make sure all requested output is visible**. You will not get credit for problems where the requested output is not visible, even if the function you coded is correct.\n",
    "\n",
    "When you are satisfied with the output, choose File > Download As ... > PDF, or choose HTML. Submit the PDF or HTML file to CCLE."
   ]
  },
  {
   "cell_type": "markdown",
   "metadata": {},
   "source": [
    "# Problem 1"
   ]
  },
  {
   "cell_type": "markdown",
   "metadata": {},
   "source": [
    "(A) In a print statement, what happens if you leave out one of the parentheses, or both? What kind of error messages does Python produce for these mistakes?\n",
    "\n",
    "**Answer:** If you leave out a parenthesis, a syntax error with a message of unexpected EOF while pasing occurs. If you leave out both parenthese, syntax error with a message of missing parentheses in call to 'print' indeed."
   ]
  },
  {
   "cell_type": "markdown",
   "metadata": {},
   "source": [
    "(B) If you are trying to print a string, what happens if you leave out one of the quotation marks, or both? What kind of error messages does Python produce for these mistakes?\n",
    "\n",
    "**Answer:** \n",
    "- case1:print(hallo, world!), is a SyntaxError. \n",
    "- case2: print(hallo, world), is a NameError with message name 'hallo' is not defined\n",
    "- case3: print(\"hallo, world) is a SyntaxError with message EOL while scanning string literal.\n",
    "\n"
   ]
  },
  {
   "cell_type": "markdown",
   "metadata": {},
   "source": [
    "(C) Spaces do not make differences in Python.Operations are applied under the order of precedence. Along all of the calculations, only 3-*-2 has a SyntaxError: invalid syntax."
   ]
  },
  {
   "cell_type": "markdown",
   "metadata": {},
   "source": [
    "(D) In math notation, leading zeros are ok, as in 09. What happens if you try this in Python? What about 011? Search the internet for information about Python and leading zeros and write a sentence summarizing your ﬁndings.\n",
    "\n",
    "**Answer:**  In Python3, leading zeros are not recognized during tokenizaton as Python2 will do. Leading Zeros mean octal numbers in Python2, but such numbers have changed to a different representation in Python3. \n"
   ]
  },
  {
   "cell_type": "markdown",
   "metadata": {},
   "source": [
    "# Problem 2"
   ]
  },
  {
   "cell_type": "markdown",
   "metadata": {},
   "source": [
    "(A) How many seconds are there in 42 minutes 42 seconds?"
   ]
  },
  {
   "cell_type": "code",
   "execution_count": 25,
   "metadata": {},
   "outputs": [
    {
     "name": "stdout",
     "output_type": "stream",
     "text": [
      "There are 2562 seconds in total.\n"
     ]
    }
   ],
   "source": [
    "sec = 42*60+42   \n",
    "print('There are %s seconds in total.'%sec)"
   ]
  },
  {
   "cell_type": "markdown",
   "metadata": {},
   "source": [
    "(B) There are 1.61 kilometers in a mile. How many miles are there in 10 kilometers?"
   ]
  },
  {
   "cell_type": "code",
   "execution_count": 49,
   "metadata": {},
   "outputs": [
    {
     "name": "stdout",
     "output_type": "stream",
     "text": [
      "There are about 6.211 miles in total.\n"
     ]
    }
   ],
   "source": [
    "miles = 10/1.61\n",
    "print('There are about %.3f miles in total.'%miles)"
   ]
  },
  {
   "cell_type": "markdown",
   "metadata": {},
   "source": [
    "(C) If you run a 10 kilometer race in 42 minutes 42 seconds, what is your average 1-mile pace (time to complete 1 mile in minutes and seconds)? What is your average speed in miles per hour?"
   ]
  },
  {
   "cell_type": "code",
   "execution_count": 50,
   "metadata": {},
   "outputs": [
    {
     "name": "stdout",
     "output_type": "stream",
     "text": [
      "The average 1-mile pace is about 6 minutes, and 52.48 seconds.\n"
     ]
    }
   ],
   "source": [
    "minute = int(sec/60//miles)\n",
    "second = sec/miles-minute*60\n",
    "print('The average 1-mile pace is about {} minutes, and {} \\\n",
    "seconds.'.format(minute,round(second, 2)))"
   ]
  },
  {
   "cell_type": "markdown",
   "metadata": {},
   "source": [
    "# Problem 3"
   ]
  },
  {
   "cell_type": "markdown",
   "metadata": {},
   "source": [
    "(A) We’ve seen that n = 42 is legal. What about 42 = n? What is the error message?\n",
    "\n",
    "**Answer:** SyntaxError: can't assign to literal"
   ]
  },
  {
   "cell_type": "markdown",
   "metadata": {},
   "source": [
    "(B) Is the following a legal statement? x = y = 1\n",
    "\n",
    "**Answer:** Yes, it assigns value 1 to x and y."
   ]
  },
  {
   "cell_type": "markdown",
   "metadata": {},
   "source": [
    "(C) In some languages every statement ends with a semi-colon ;. What happens if you put a semi-colon at the end of a Python statement? What function do semi-colons serve in Python?\n",
    "\n",
    "**Answer:** It allows to do multiple statements in one line."
   ]
  },
  {
   "cell_type": "markdown",
   "metadata": {},
   "source": [
    "(D) What happens if you put a period at the end of a statement\n",
    "\n",
    "**Answer:** a period at the end of a statement would create a syntax error."
   ]
  },
  {
   "cell_type": "markdown",
   "metadata": {},
   "source": [
    "(E) Explain the diﬀerence between the following two lines:\n",
    "**Answer:** They have different data type; a period denotes a float data type."
   ]
  },
  {
   "cell_type": "code",
   "execution_count": 84,
   "metadata": {},
   "outputs": [
    {
     "name": "stdout",
     "output_type": "stream",
     "text": [
      "42 <class 'int'>\n"
     ]
    }
   ],
   "source": [
    "n=42\n",
    "print(n, type(n))"
   ]
  },
  {
   "cell_type": "code",
   "execution_count": 83,
   "metadata": {},
   "outputs": [
    {
     "name": "stdout",
     "output_type": "stream",
     "text": [
      "42.0 <class 'float'>\n"
     ]
    }
   ],
   "source": [
    "n=42.\n",
    "print(n, type(n))"
   ]
  },
  {
   "cell_type": "markdown",
   "metadata": {},
   "source": [
    "# Problem 4"
   ]
  },
  {
   "cell_type": "markdown",
   "metadata": {},
   "source": [
    "(A) (10 points) The volume of a sphere with radius r is 4/3 πr^3 . Write a function sphere_volume(r) that will accept a radius as an argument and return the volume."
   ]
  },
  {
   "cell_type": "code",
   "execution_count": 87,
   "metadata": {},
   "outputs": [],
   "source": [
    "from math import pi\n",
    "def sphere_volume(r):\n",
    "    return (4/3) * pi * r ** 3"
   ]
  },
  {
   "cell_type": "code",
   "execution_count": 89,
   "metadata": {},
   "outputs": [
    {
     "data": {
      "text/plain": [
       "523.5987755982989"
      ]
     },
     "execution_count": 89,
     "metadata": {},
     "output_type": "execute_result"
    }
   ],
   "source": [
    "sphere_volume(5)"
   ]
  },
  {
   "cell_type": "code",
   "execution_count": 90,
   "metadata": {},
   "outputs": [
    {
     "data": {
      "text/plain": [
       "14137.166941154068"
      ]
     },
     "execution_count": 90,
     "metadata": {},
     "output_type": "execute_result"
    }
   ],
   "source": [
    "sphere_volume(15)"
   ]
  },
  {
   "cell_type": "code",
   "execution_count": 108,
   "metadata": {},
   "outputs": [],
   "source": [
    "def wholesale_cost(books):\n",
    "    assert books >= 0, 'must have non-negative integer for input!'\n",
    "    new_price = 24.95*(1 - 0.4)\n",
    "    if books:\n",
    "        return round(books * new_price + (books - 1) * 0.75 + 3, 2)\n",
    "    else:\n",
    "        return 0"
   ]
  },
  {
   "cell_type": "code",
   "execution_count": 102,
   "metadata": {},
   "outputs": [
    {
     "data": {
      "text/plain": [
       "945.45"
      ]
     },
     "execution_count": 102,
     "metadata": {},
     "output_type": "execute_result"
    }
   ],
   "source": [
    "wholesale_cost(60)"
   ]
  },
  {
   "cell_type": "code",
   "execution_count": 103,
   "metadata": {},
   "outputs": [
    {
     "data": {
      "text/plain": [
       "159.45"
      ]
     },
     "execution_count": 103,
     "metadata": {},
     "output_type": "execute_result"
    }
   ],
   "source": [
    "wholesale_cost(10)"
   ]
  },
  {
   "cell_type": "markdown",
   "metadata": {},
   "source": [
    "(C) (10 points) A person runs several miles. The ﬁrst and last miles are run at an ’easy’ pace. Other than the ﬁrst and last miles, the other miles are at a faster pace.\n",
    "\n",
    "Write a function run_time(miles, warm_pace, fast_pace) to calculate the time the runner will take. The function accepts three input arguments: how many miles the runner travels (minimum value is 2), the warm-up and cool-down pace, the fast pace. The function will print the time in the format minutes:seconds, and will return a tuple of values: (minutes, seconds) Use the function to ﬁnd the time to run a total of 5 miles. The warm-up pace is 8:15 per mile. The speed pace is 7:12 per mile.\n",
    "\n",
    "For now, you can call the function using:\n",
    "\n",
    "run_time(miles = 5, warm_pace = 495, fast_pace = 432)"
   ]
  },
  {
   "cell_type": "code",
   "execution_count": 1,
   "metadata": {},
   "outputs": [],
   "source": [
    "def run_time(miles,warm_pace,fast_pace):\n",
    "    assert miles>=2\n",
    "    time = warm_pace*2 + (miles - 2) * fast_pace\n",
    "    minutes = time // 60 \n",
    "    seconds = time - minutes * 60\n",
    "    print('Required time is: ' + \\\n",
    "          str(minutes) + ':' + str(seconds))    \n",
    "    return((minutes, seconds))\n",
    "    "
   ]
  },
  {
   "cell_type": "code",
   "execution_count": 2,
   "metadata": {},
   "outputs": [
    {
     "name": "stdout",
     "output_type": "stream",
     "text": [
      "Required time is: 38:6\n"
     ]
    },
    {
     "data": {
      "text/plain": [
       "(38, 6)"
      ]
     },
     "execution_count": 2,
     "metadata": {},
     "output_type": "execute_result"
    }
   ],
   "source": [
    "run_time(miles = 5, warm_pace = 495, fast_pace = 432)"
   ]
  },
  {
   "cell_type": "code",
   "execution_count": 3,
   "metadata": {},
   "outputs": [],
   "source": [
    "def run_time_super(miles,warm_pace,fast_pace):\n",
    "    assert miles>=2\n",
    "    def transform(i):\n",
    "        i = i.split(':')\n",
    "        return  int(i[0]) * 60 + int(i[1])\n",
    "    time = transform(warm_pace) * 2 + (miles - 2) * transform(fast_pace)\n",
    "    minutes = time // 60 \n",
    "    seconds = time - minutes * 60\n",
    "    print('Required time is: ' + \\\n",
    "          str(minutes) + ':' + str(seconds))\n",
    "    return((minutes, seconds))\n",
    "    "
   ]
  },
  {
   "cell_type": "code",
   "execution_count": 4,
   "metadata": {},
   "outputs": [
    {
     "name": "stdout",
     "output_type": "stream",
     "text": [
      "Required time is: 38:6\n"
     ]
    },
    {
     "data": {
      "text/plain": [
       "(38, 6)"
      ]
     },
     "execution_count": 4,
     "metadata": {},
     "output_type": "execute_result"
    }
   ],
   "source": [
    "run_time_super(5, \"8:15\", \"7:12\")"
   ]
  },
  {
   "cell_type": "markdown",
   "metadata": {},
   "source": [
    "# Problem 5"
   ]
  },
  {
   "cell_type": "markdown",
   "metadata": {},
   "source": [
    "You can use import math to gain access to math functions.\n",
    "\n",
    "Create a function polar(real, imaginary) that will return the polar coordinates of a complex number. The input arguments are the real and imaginary components of a complex number. The function will return a tuple of values: the value of the radius r and the angle theta."
   ]
  },
  {
   "cell_type": "code",
   "execution_count": 18,
   "metadata": {},
   "outputs": [],
   "source": [
    "import math\n",
    "def polar(real, imaginary):\n",
    "    r = pow((real**2 + imaginary**2), 0.5)\n",
    "    theta = math.atan(imaginary / real)\n",
    "    return (r, theta)"
   ]
  },
  {
   "cell_type": "code",
   "execution_count": 19,
   "metadata": {},
   "outputs": [
    {
     "data": {
      "text/plain": [
       "(1.4142135623730951, 0.7853981633974483)"
      ]
     },
     "execution_count": 19,
     "metadata": {},
     "output_type": "execute_result"
    }
   ],
   "source": [
    "polar(1, 1)"
   ]
  },
  {
   "cell_type": "code",
   "execution_count": 15,
   "metadata": {},
   "outputs": [
    {
     "data": {
      "text/plain": [
       "(3.605551275463989, 0.982793723247329)"
      ]
     },
     "execution_count": 15,
     "metadata": {},
     "output_type": "execute_result"
    }
   ],
   "source": [
    "polar(-2,-3)"
   ]
  },
  {
   "cell_type": "code",
   "execution_count": 16,
   "metadata": {},
   "outputs": [
    {
     "data": {
      "text/plain": [
       "(4.47213595499958, 0.46364760900080615)"
      ]
     },
     "execution_count": 16,
     "metadata": {},
     "output_type": "execute_result"
    }
   ],
   "source": [
    "polar(4,2)"
   ]
  },
  {
   "cell_type": "code",
   "execution_count": null,
   "metadata": {},
   "outputs": [],
   "source": []
  }
 ],
 "metadata": {
  "kernelspec": {
   "display_name": "Python 3",
   "language": "python",
   "name": "python3"
  },
  "language_info": {
   "codemirror_mode": {
    "name": "ipython",
    "version": 3
   },
   "file_extension": ".py",
   "mimetype": "text/x-python",
   "name": "python",
   "nbconvert_exporter": "python",
   "pygments_lexer": "ipython3",
   "version": "3.6.8"
  }
 },
 "nbformat": 4,
 "nbformat_minor": 4
}
